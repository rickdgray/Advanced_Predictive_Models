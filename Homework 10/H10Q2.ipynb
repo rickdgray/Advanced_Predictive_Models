{
 "cells": [
  {
   "cell_type": "markdown",
   "metadata": {},
   "source": [
    "## Homework 10 Question 2\n",
    "##### 2022-07-27"
   ]
  },
  {
   "cell_type": "code",
   "execution_count": 1,
   "metadata": {},
   "outputs": [],
   "source": [
    "import warnings\n",
    "import matplotlib.image as mpimg\n",
    "import numpy as np\n",
    "import matplotlib.pyplot as plt\n",
    "from sklearn.cluster import KMeans\n",
    "from scipy.sparse import csr_matrix\n",
    "from scipy.sparse import diags\n",
    "from scipy import sparse as sp\n",
    "import pickle\n",
    "warnings.filterwarnings(\"ignore\")\n",
    "\n",
    "pkl_file = open('TexasLonghorn.pkl', 'rb')\n",
    "img = pickle.load(pkl_file)\n",
    "pkl_file.close()"
   ]
  },
  {
   "cell_type": "markdown",
   "metadata": {},
   "source": [
    "### Part A"
   ]
  },
  {
   "cell_type": "code",
   "execution_count": null,
   "metadata": {},
   "outputs": [],
   "source": [
    "#todo"
   ]
  },
  {
   "cell_type": "markdown",
   "metadata": {},
   "source": [
    "### Part B"
   ]
  },
  {
   "cell_type": "code",
   "execution_count": null,
   "metadata": {},
   "outputs": [],
   "source": [
    "#todo"
   ]
  },
  {
   "cell_type": "code",
   "execution_count": null,
   "metadata": {},
   "outputs": [],
   "source": [
    "I = img.shape[0]\n",
    "J = img.shape[1]\n",
    "numPixels = I * J\n",
    "\n",
    "redPixelVals = img[:,:,0].flatten()\n",
    "greenPixelVals = img[:,:,1].flatten()\n",
    "bluePixelVals = img[:,:,2].flatten()"
   ]
  },
  {
   "cell_type": "markdown",
   "metadata": {},
   "source": [
    "### Part C"
   ]
  },
  {
   "cell_type": "code",
   "execution_count": null,
   "metadata": {},
   "outputs": [],
   "source": [
    "#Create Queens Neighbor Matrix\n",
    "#CSR Sparse Initialization\n",
    "neighborMat = csr_matrix((numPixels,numPixels))\n",
    "\n",
    "#By Definition, the neighbors of a pixel are the following pixels\n",
    "adjToNeighbor = np.array([1,J-1,J,J+1,-1,-(J-1),-J,-(J+1)])\n",
    "neighborGrid = np.array([x + adjToNeighbor for x in range(numPixels)])\n",
    "\n",
    "#Now we need to adjust the matrix to remove issues at the boundaries\n",
    "rowNums = np.asarray(np.repeat(list(range(numPixels)),8)).reshape([numPixels,8])\n",
    "neighborGrid[neighborGrid < 0] = rowNums[neighborGrid < 0]\n",
    "neighborGrid[neighborGrid > numPixels-1] = rowNums[neighborGrid > numPixels-1]\n",
    "neighborGrid[J * np.array(range(I)),1] = J * np.array(range(I))\n",
    "neighborGrid[J * np.array(range(I)),4] = J * np.array(range(I))\n",
    "neighborGrid[J * np.array(range(I)),7] = J * np.array(range(I))\n",
    "neighborGrid[J * np.array(range(1,I+1))-1,5] = J * np.array(range(1,I+1))-1\n",
    "neighborGrid[J * np.array(range(1,I+1))-1,3] = J * np.array(range(1,I+1))-1\n",
    "neighborGrid[J * np.array(range(1,I+1))-1,0] = J * np.array(range(1,I+1))-1\n",
    "\n",
    "#Is there a more direct way of doing all this? Probably. But this all works\n",
    "neighborMat[np.repeat(list(range(numPixels)),8),neighborGrid.flatten()] = 1\n",
    "neighborMat[np.array(range(numPixels)),np.array(range(numPixels))] = 0\n",
    "\n",
    "#Find neighbors of pixel 73850\n",
    "### INSERT YOUR CODE HERE ###"
   ]
  },
  {
   "cell_type": "markdown",
   "metadata": {},
   "source": [
    "### Part D"
   ]
  },
  {
   "cell_type": "code",
   "execution_count": null,
   "metadata": {},
   "outputs": [],
   "source": [
    "#Now lets find which spots we need to calculate things for the W matrix\n",
    "ixW = sp.find(neighborMat == 1)\n",
    "\n",
    "#Initialzie W matrix and set sigma parameter\n",
    "s = 30\n",
    "W = csr_matrix((numPixels,numPixels))\n",
    "\n",
    "#Calculate the W Matrix\n",
    "### INSERT YOUR CODE HERE ###\n",
    "\n",
    "\n",
    "\n",
    "#Calculate the D Matrix\n",
    "D = np.squeeze(np.asarray(np.sum(W,axis = 1)))       \n",
    "\n",
    "#Check the values of the D matrix\n",
    "D.min()\n",
    "D.max()\n",
    "\n",
    "#Report values of D matrix\n",
    "### INSERT YOUR CODE HERE ###"
   ]
  },
  {
   "cell_type": "markdown",
   "metadata": {},
   "source": [
    "### Part E"
   ]
  },
  {
   "cell_type": "code",
   "execution_count": null,
   "metadata": {},
   "outputs": [],
   "source": [
    "#Create the L matrix and LSM matrix\n",
    "### INSERT YOUR CODE HERE ###\n",
    "\n",
    "#Part e answers\n",
    "np.sum(Lrw != 0)\n",
    "Lrw[55,62]\n",
    "Lrw[34331,34332]\n",
    "Lrw[74199,74548]"
   ]
  },
  {
   "cell_type": "markdown",
   "metadata": {},
   "source": [
    "### Part F"
   ]
  },
  {
   "cell_type": "code",
   "execution_count": null,
   "metadata": {},
   "outputs": [],
   "source": [
    "#Find the eigenvectors (and values) of the L matrix\n",
    "K = 10\n",
    "M = csr_matrix(diags(D))\n",
    "Minv = csr_matrix(diags(1/D))\n",
    "initVec = (D > 6)\n",
    "#Other options for initVec that yield different results\n",
    "# initVec = (redPixelVals > 100)/numPixels\n",
    "# initVec = ((redPixelVals + bluePixelVals + greenPixelVals) > 550)/numPixels\n",
    "initVec = initVec / sum(initVec)\n",
    "lam, v = sp.linalg.eigs(Lrw,K,M = M,Minv = Minv,v0 = initVec)\n",
    "\n",
    "#Pull out the top K vectors to use\n",
    "Y = np.real(v[:,0:K])\n",
    "\n",
    "#Normalize the rows of Y\n",
    "Y = np.transpose(np.transpose(Y)/np.linalg.norm(Y,axis = 1))\n",
    "Y = np.nan_to_num(Y)\n",
    "\n",
    "#Perform K-Means on Y\n",
    "kmeans = KMeans(init = 'k-means++',n_clusters = 5,n_init = 10,\n",
    "                max_iter = 300,random_state=0)\n",
    "kmeans.fit(Y)\n",
    "\n",
    "#Create a plot\n",
    "from matplotlib.colors import from_levels_and_colors\n",
    "cmap , norm = from_levels_and_colors([-.5,0.5,1.5], ['white','black'])\n",
    "clusterImg = ### INSERT YOUR CODE HERE ###\n",
    "plt.imshow(clusterImg,cmap=cmap)\n",
    "ax = plt.gca()\n",
    "ax.axes.xaxis.set_visible(False)\n",
    "ax.axes.yaxis.set_visible(False)\n",
    "plt.show()"
   ]
  }
 ],
 "metadata": {
  "kernelspec": {
   "display_name": "Python 3.8.10 64-bit",
   "language": "python",
   "name": "python3"
  },
  "language_info": {
   "codemirror_mode": {
    "name": "ipython",
    "version": 3
   },
   "file_extension": ".py",
   "mimetype": "text/x-python",
   "name": "python",
   "nbconvert_exporter": "python",
   "pygments_lexer": "ipython3",
   "version": "3.8.10"
  },
  "orig_nbformat": 4,
  "vscode": {
   "interpreter": {
    "hash": "31f2aee4e71d21fbe5cf8b01ff0e069b9275f58929596ceb00d14d90e3e16cd6"
   }
  }
 },
 "nbformat": 4,
 "nbformat_minor": 2
}
