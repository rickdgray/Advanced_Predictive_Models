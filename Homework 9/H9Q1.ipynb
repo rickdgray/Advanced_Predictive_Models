{
 "cells": [
  {
   "cell_type": "markdown",
   "metadata": {},
   "source": [
    "## Homework 9 Question 1\n",
    "##### 2022-07-20"
   ]
  },
  {
   "cell_type": "code",
   "execution_count": 1,
   "metadata": {},
   "outputs": [],
   "source": [
    "import numpy as np\n",
    "import pandas as pd\n",
    "from matplotlib import pyplot as plt"
   ]
  },
  {
   "cell_type": "markdown",
   "metadata": {},
   "source": [
    "### Part A"
   ]
  },
  {
   "cell_type": "code",
   "execution_count": 2,
   "metadata": {},
   "outputs": [
    {
     "name": "stdout",
     "output_type": "stream",
     "text": [
      "5.0\n",
      "0.5\n",
      "3.297080189685473\n"
     ]
    }
   ],
   "source": [
    "column_names = pd.read_csv(\"MovieReviewMat.csv\", index_col=0, header=0, nrows=0).columns\n",
    "genres = pd.read_csv(\"MovieReviewMat.csv\", index_col=0, header=0, nrows=1).transpose()\n",
    "genres.columns = ['genres']\n",
    "x = pd.read_csv(\"MovieReviewMat.csv\", index_col=0, skiprows=2, names=column_names)\n",
    "\n",
    "print(x.max().max())\n",
    "print(x.min().min())\n",
    "print(np.nansum(x) / np.count_nonzero(x.fillna(0)))"
   ]
  },
  {
   "cell_type": "markdown",
   "metadata": {},
   "source": [
    "The highest score is a __5.0__.\n",
    "\n",
    "The lowest score is a __0.5__.\n",
    "\n",
    "The mean score is __3.30__.\n",
    "\n",
    "### Part B"
   ]
  },
  {
   "cell_type": "code",
   "execution_count": 9,
   "metadata": {},
   "outputs": [
    {
     "data": {
      "text/html": [
       "<div>\n",
       "<style scoped>\n",
       "    .dataframe tbody tr th:only-of-type {\n",
       "        vertical-align: middle;\n",
       "    }\n",
       "\n",
       "    .dataframe tbody tr th {\n",
       "        vertical-align: top;\n",
       "    }\n",
       "\n",
       "    .dataframe thead th {\n",
       "        text-align: right;\n",
       "    }\n",
       "</style>\n",
       "<table border=\"1\" class=\"dataframe\">\n",
       "  <thead>\n",
       "    <tr style=\"text-align: right;\">\n",
       "      <th></th>\n",
       "      <th>1462</th>\n",
       "      <th>genres</th>\n",
       "    </tr>\n",
       "  </thead>\n",
       "  <tbody>\n",
       "    <tr>\n",
       "      <th>Taxi Driver (1976)</th>\n",
       "      <td>5.0</td>\n",
       "      <td>Crime|Drama|Thriller</td>\n",
       "    </tr>\n",
       "    <tr>\n",
       "      <th>Rob Roy (1995)</th>\n",
       "      <td>5.0</td>\n",
       "      <td>Action|Drama|Romance|War</td>\n",
       "    </tr>\n",
       "    <tr>\n",
       "      <th>Little Princess, A (1995)</th>\n",
       "      <td>5.0</td>\n",
       "      <td>Children|Drama</td>\n",
       "    </tr>\n",
       "    <tr>\n",
       "      <th>William Shakespeare's Romeo + Juliet (1996)</th>\n",
       "      <td>5.0</td>\n",
       "      <td>Drama|Romance</td>\n",
       "    </tr>\n",
       "    <tr>\n",
       "      <th>Quiet Man, The (1952)</th>\n",
       "      <td>5.0</td>\n",
       "      <td>Drama|Romance</td>\n",
       "    </tr>\n",
       "    <tr>\n",
       "      <th>Raging Bull (1980)</th>\n",
       "      <td>5.0</td>\n",
       "      <td>Drama</td>\n",
       "    </tr>\n",
       "    <tr>\n",
       "      <th>Pink Floyd: The Wall (1982)</th>\n",
       "      <td>5.0</td>\n",
       "      <td>Drama|Musical</td>\n",
       "    </tr>\n",
       "    <tr>\n",
       "      <th>Field of Dreams (1989)</th>\n",
       "      <td>5.0</td>\n",
       "      <td>Children|Drama|Fantasy</td>\n",
       "    </tr>\n",
       "    <tr>\n",
       "      <th>Man Who Would Be King, The (1975)</th>\n",
       "      <td>5.0</td>\n",
       "      <td>Adventure|Drama</td>\n",
       "    </tr>\n",
       "    <tr>\n",
       "      <th>Playing by Heart (1998)</th>\n",
       "      <td>5.0</td>\n",
       "      <td>Drama|Romance</td>\n",
       "    </tr>\n",
       "    <tr>\n",
       "      <th>War of the Worlds, The (1953)</th>\n",
       "      <td>5.0</td>\n",
       "      <td>Action|Drama|Sci-Fi</td>\n",
       "    </tr>\n",
       "  </tbody>\n",
       "</table>\n",
       "</div>"
      ],
      "text/plain": [
       "                                             1462                    genres\n",
       "Taxi Driver (1976)                            5.0      Crime|Drama|Thriller\n",
       "Rob Roy (1995)                                5.0  Action|Drama|Romance|War\n",
       "Little Princess, A (1995)                     5.0            Children|Drama\n",
       "William Shakespeare's Romeo + Juliet (1996)   5.0             Drama|Romance\n",
       "Quiet Man, The (1952)                         5.0             Drama|Romance\n",
       "Raging Bull (1980)                            5.0                     Drama\n",
       "Pink Floyd: The Wall (1982)                   5.0             Drama|Musical\n",
       "Field of Dreams (1989)                        5.0    Children|Drama|Fantasy\n",
       "Man Who Would Be King, The (1975)             5.0           Adventure|Drama\n",
       "Playing by Heart (1998)                       5.0             Drama|Romance\n",
       "War of the Worlds, The (1953)                 5.0       Action|Drama|Sci-Fi"
      ]
     },
     "execution_count": 9,
     "metadata": {},
     "output_type": "execute_result"
    }
   ],
   "source": [
    "x.iloc[1460, :][x.iloc[1460, :] == 5.0].to_frame().join(genres)"
   ]
  },
  {
   "cell_type": "markdown",
   "metadata": {},
   "source": [
    "Reviewer 1460 tends to give __Dramas__ a score of 5.0."
   ]
  },
  {
   "cell_type": "code",
   "execution_count": 22,
   "metadata": {},
   "outputs": [
    {
     "data": {
      "text/html": [
       "<div>\n",
       "<style scoped>\n",
       "    .dataframe tbody tr th:only-of-type {\n",
       "        vertical-align: middle;\n",
       "    }\n",
       "\n",
       "    .dataframe tbody tr th {\n",
       "        vertical-align: top;\n",
       "    }\n",
       "\n",
       "    .dataframe thead th {\n",
       "        text-align: right;\n",
       "    }\n",
       "</style>\n",
       "<table border=\"1\" class=\"dataframe\">\n",
       "  <thead>\n",
       "    <tr style=\"text-align: right;\">\n",
       "      <th></th>\n",
       "      <th>1462</th>\n",
       "      <th>45</th>\n",
       "      <th>genres</th>\n",
       "    </tr>\n",
       "  </thead>\n",
       "  <tbody>\n",
       "    <tr>\n",
       "      <th>Taxi Driver (1976)</th>\n",
       "      <td>5.0</td>\n",
       "      <td>1.5</td>\n",
       "      <td>Crime|Drama|Thriller</td>\n",
       "    </tr>\n",
       "    <tr>\n",
       "      <th>Rob Roy (1995)</th>\n",
       "      <td>5.0</td>\n",
       "      <td>NaN</td>\n",
       "      <td>Action|Drama|Romance|War</td>\n",
       "    </tr>\n",
       "    <tr>\n",
       "      <th>Little Princess, A (1995)</th>\n",
       "      <td>5.0</td>\n",
       "      <td>2.5</td>\n",
       "      <td>Children|Drama</td>\n",
       "    </tr>\n",
       "    <tr>\n",
       "      <th>William Shakespeare's Romeo + Juliet (1996)</th>\n",
       "      <td>5.0</td>\n",
       "      <td>2.5</td>\n",
       "      <td>Drama|Romance</td>\n",
       "    </tr>\n",
       "    <tr>\n",
       "      <th>Quiet Man, The (1952)</th>\n",
       "      <td>5.0</td>\n",
       "      <td>2.5</td>\n",
       "      <td>Drama|Romance</td>\n",
       "    </tr>\n",
       "    <tr>\n",
       "      <th>Raging Bull (1980)</th>\n",
       "      <td>5.0</td>\n",
       "      <td>2.5</td>\n",
       "      <td>Drama</td>\n",
       "    </tr>\n",
       "    <tr>\n",
       "      <th>Pink Floyd: The Wall (1982)</th>\n",
       "      <td>5.0</td>\n",
       "      <td>3.5</td>\n",
       "      <td>Drama|Musical</td>\n",
       "    </tr>\n",
       "    <tr>\n",
       "      <th>Field of Dreams (1989)</th>\n",
       "      <td>5.0</td>\n",
       "      <td>NaN</td>\n",
       "      <td>Children|Drama|Fantasy</td>\n",
       "    </tr>\n",
       "    <tr>\n",
       "      <th>Man Who Would Be King, The (1975)</th>\n",
       "      <td>5.0</td>\n",
       "      <td>2.0</td>\n",
       "      <td>Adventure|Drama</td>\n",
       "    </tr>\n",
       "    <tr>\n",
       "      <th>Playing by Heart (1998)</th>\n",
       "      <td>5.0</td>\n",
       "      <td>3.0</td>\n",
       "      <td>Drama|Romance</td>\n",
       "    </tr>\n",
       "    <tr>\n",
       "      <th>War of the Worlds, The (1953)</th>\n",
       "      <td>5.0</td>\n",
       "      <td>3.5</td>\n",
       "      <td>Action|Drama|Sci-Fi</td>\n",
       "    </tr>\n",
       "  </tbody>\n",
       "</table>\n",
       "</div>"
      ],
      "text/plain": [
       "                                             1462   45  \\\n",
       "Taxi Driver (1976)                            5.0  1.5   \n",
       "Rob Roy (1995)                                5.0  NaN   \n",
       "Little Princess, A (1995)                     5.0  2.5   \n",
       "William Shakespeare's Romeo + Juliet (1996)   5.0  2.5   \n",
       "Quiet Man, The (1952)                         5.0  2.5   \n",
       "Raging Bull (1980)                            5.0  2.5   \n",
       "Pink Floyd: The Wall (1982)                   5.0  3.5   \n",
       "Field of Dreams (1989)                        5.0  NaN   \n",
       "Man Who Would Be King, The (1975)             5.0  2.0   \n",
       "Playing by Heart (1998)                       5.0  3.0   \n",
       "War of the Worlds, The (1953)                 5.0  3.5   \n",
       "\n",
       "                                                               genres  \n",
       "Taxi Driver (1976)                               Crime|Drama|Thriller  \n",
       "Rob Roy (1995)                               Action|Drama|Romance|War  \n",
       "Little Princess, A (1995)                              Children|Drama  \n",
       "William Shakespeare's Romeo + Juliet (1996)             Drama|Romance  \n",
       "Quiet Man, The (1952)                                   Drama|Romance  \n",
       "Raging Bull (1980)                                              Drama  \n",
       "Pink Floyd: The Wall (1982)                             Drama|Musical  \n",
       "Field of Dreams (1989)                         Children|Drama|Fantasy  \n",
       "Man Who Would Be King, The (1975)                     Adventure|Drama  \n",
       "Playing by Heart (1998)                                 Drama|Romance  \n",
       "War of the Worlds, The (1953)                     Action|Drama|Sci-Fi  "
      ]
     },
     "execution_count": 22,
     "metadata": {},
     "output_type": "execute_result"
    }
   ],
   "source": [
    "x.iloc[1460, :][x.iloc[1460, :] == 5.0] \\\n",
    "    .to_frame() \\\n",
    "    .merge(x.iloc[43, :].to_frame(), left_index=True, right_index=True) \\\n",
    "    .join(genres)"
   ]
  },
  {
   "cell_type": "markdown",
   "metadata": {},
   "source": [
    "Reviewer 43 tends to give scores of 2.5 to the __Dramas__ that reviewer 1460 likes."
   ]
  },
  {
   "cell_type": "code",
   "execution_count": 23,
   "metadata": {},
   "outputs": [
    {
     "data": {
      "text/html": [
       "<div>\n",
       "<style scoped>\n",
       "    .dataframe tbody tr th:only-of-type {\n",
       "        vertical-align: middle;\n",
       "    }\n",
       "\n",
       "    .dataframe tbody tr th {\n",
       "        vertical-align: top;\n",
       "    }\n",
       "\n",
       "    .dataframe thead th {\n",
       "        text-align: right;\n",
       "    }\n",
       "</style>\n",
       "<table border=\"1\" class=\"dataframe\">\n",
       "  <thead>\n",
       "    <tr style=\"text-align: right;\">\n",
       "      <th></th>\n",
       "      <th>45</th>\n",
       "      <th>genres</th>\n",
       "    </tr>\n",
       "  </thead>\n",
       "  <tbody>\n",
       "    <tr>\n",
       "      <th>Jack (1996)</th>\n",
       "      <td>5.0</td>\n",
       "      <td>Comedy|Drama</td>\n",
       "    </tr>\n",
       "    <tr>\n",
       "      <th>Sting, The (1973)</th>\n",
       "      <td>5.0</td>\n",
       "      <td>Comedy|Crime</td>\n",
       "    </tr>\n",
       "    <tr>\n",
       "      <th>Groundhog Day (1993)</th>\n",
       "      <td>5.0</td>\n",
       "      <td>Comedy|Fantasy|Romance</td>\n",
       "    </tr>\n",
       "    <tr>\n",
       "      <th>Howard the Duck (1986)</th>\n",
       "      <td>5.0</td>\n",
       "      <td>Adventure|Comedy|Sci-Fi</td>\n",
       "    </tr>\n",
       "    <tr>\n",
       "      <th>Anywhere But Here (1999)</th>\n",
       "      <td>5.0</td>\n",
       "      <td>Comedy|Drama</td>\n",
       "    </tr>\n",
       "  </tbody>\n",
       "</table>\n",
       "</div>"
      ],
      "text/plain": [
       "                           45                   genres\n",
       "Jack (1996)               5.0             Comedy|Drama\n",
       "Sting, The (1973)         5.0             Comedy|Crime\n",
       "Groundhog Day (1993)      5.0   Comedy|Fantasy|Romance\n",
       "Howard the Duck (1986)    5.0  Adventure|Comedy|Sci-Fi\n",
       "Anywhere But Here (1999)  5.0             Comedy|Drama"
      ]
     },
     "execution_count": 23,
     "metadata": {},
     "output_type": "execute_result"
    }
   ],
   "source": [
    "x.iloc[43, :][x.iloc[43, :] == 5.0].to_frame().join(genres)"
   ]
  },
  {
   "cell_type": "markdown",
   "metadata": {},
   "source": [
    "Reviewer 43 tends to give __Comedies__ a score of 5.0.\n",
    "\n",
    "Reviewer 1460 game __Taxi Driver (1976)__ and __Rob Roy (1995)__ the highest score.\n",
    "\n",
    "Reviewer 43 game __Jack (1996)__ and __Sting, The (1973)__ the highest score.\n",
    "\n",
    "### Part C\n",
    "\n",
    "Given that scores of 5.0 appear to be given out by reviewers only to movies in their favorite genres, I estimate there will be a type of individual for each genre. So the number of types of individuals would be equal to the number of genres.\n",
    "\n",
    "### Part D"
   ]
  },
  {
   "cell_type": "code",
   "execution_count": null,
   "metadata": {},
   "outputs": [],
   "source": [
    "x.fillna(0, inplace=True)\n",
    "np.linalg.svd(x.values, full_matrices=False)"
   ]
  }
 ],
 "metadata": {
  "kernelspec": {
   "display_name": "Python 3.8.10 64-bit",
   "language": "python",
   "name": "python3"
  },
  "language_info": {
   "codemirror_mode": {
    "name": "ipython",
    "version": 3
   },
   "file_extension": ".py",
   "mimetype": "text/x-python",
   "name": "python",
   "nbconvert_exporter": "python",
   "pygments_lexer": "ipython3",
   "version": "3.8.10"
  },
  "orig_nbformat": 4,
  "vscode": {
   "interpreter": {
    "hash": "31f2aee4e71d21fbe5cf8b01ff0e069b9275f58929596ceb00d14d90e3e16cd6"
   }
  }
 },
 "nbformat": 4,
 "nbformat_minor": 2
}
