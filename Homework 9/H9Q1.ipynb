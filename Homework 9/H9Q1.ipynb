{
 "cells": [
  {
   "cell_type": "markdown",
   "metadata": {},
   "source": [
    "## Homework 9 Question 1\n",
    "##### 2022-07-20"
   ]
  },
  {
   "cell_type": "code",
   "execution_count": 16,
   "metadata": {},
   "outputs": [],
   "source": [
    "import warnings\n",
    "import numpy as np\n",
    "import pandas as pd\n",
    "from sklearn.decomposition import NMF\n",
    "warnings.filterwarnings(\"ignore\")"
   ]
  },
  {
   "cell_type": "markdown",
   "metadata": {},
   "source": [
    "### Part A"
   ]
  },
  {
   "cell_type": "code",
   "execution_count": 2,
   "metadata": {},
   "outputs": [
    {
     "name": "stdout",
     "output_type": "stream",
     "text": [
      "5.0\n",
      "0.5\n",
      "3.297080189685473\n"
     ]
    }
   ],
   "source": [
    "column_names = pd.read_csv(\"MovieReviewMat.csv\", index_col=0, header=0, nrows=0).columns\n",
    "genres = pd.read_csv(\"MovieReviewMat.csv\", index_col=0, header=0, nrows=1).transpose()\n",
    "genres.columns = ['genres']\n",
    "x = pd.read_csv(\"MovieReviewMat.csv\", index_col=0, skiprows=2, names=column_names)\n",
    "\n",
    "print(x.max().max())\n",
    "print(x.min().min())\n",
    "print(np.nansum(x) / np.count_nonzero(x.fillna(0)))"
   ]
  },
  {
   "cell_type": "markdown",
   "metadata": {},
   "source": [
    "The highest score is a __5.0__.\n",
    "\n",
    "The lowest score is a __0.5__.\n",
    "\n",
    "The mean score is __3.30__.\n",
    "\n",
    "### Part B"
   ]
  },
  {
   "cell_type": "code",
   "execution_count": 3,
   "metadata": {},
   "outputs": [
    {
     "data": {
      "text/html": [
       "<div>\n",
       "<style scoped>\n",
       "    .dataframe tbody tr th:only-of-type {\n",
       "        vertical-align: middle;\n",
       "    }\n",
       "\n",
       "    .dataframe tbody tr th {\n",
       "        vertical-align: top;\n",
       "    }\n",
       "\n",
       "    .dataframe thead th {\n",
       "        text-align: right;\n",
       "    }\n",
       "</style>\n",
       "<table border=\"1\" class=\"dataframe\">\n",
       "  <thead>\n",
       "    <tr style=\"text-align: right;\">\n",
       "      <th></th>\n",
       "      <th>1462</th>\n",
       "      <th>genres</th>\n",
       "    </tr>\n",
       "  </thead>\n",
       "  <tbody>\n",
       "    <tr>\n",
       "      <th>Taxi Driver (1976)</th>\n",
       "      <td>5.0</td>\n",
       "      <td>Crime|Drama|Thriller</td>\n",
       "    </tr>\n",
       "    <tr>\n",
       "      <th>Rob Roy (1995)</th>\n",
       "      <td>5.0</td>\n",
       "      <td>Action|Drama|Romance|War</td>\n",
       "    </tr>\n",
       "    <tr>\n",
       "      <th>Little Princess, A (1995)</th>\n",
       "      <td>5.0</td>\n",
       "      <td>Children|Drama</td>\n",
       "    </tr>\n",
       "    <tr>\n",
       "      <th>William Shakespeare's Romeo + Juliet (1996)</th>\n",
       "      <td>5.0</td>\n",
       "      <td>Drama|Romance</td>\n",
       "    </tr>\n",
       "    <tr>\n",
       "      <th>Quiet Man, The (1952)</th>\n",
       "      <td>5.0</td>\n",
       "      <td>Drama|Romance</td>\n",
       "    </tr>\n",
       "    <tr>\n",
       "      <th>Raging Bull (1980)</th>\n",
       "      <td>5.0</td>\n",
       "      <td>Drama</td>\n",
       "    </tr>\n",
       "    <tr>\n",
       "      <th>Pink Floyd: The Wall (1982)</th>\n",
       "      <td>5.0</td>\n",
       "      <td>Drama|Musical</td>\n",
       "    </tr>\n",
       "    <tr>\n",
       "      <th>Field of Dreams (1989)</th>\n",
       "      <td>5.0</td>\n",
       "      <td>Children|Drama|Fantasy</td>\n",
       "    </tr>\n",
       "    <tr>\n",
       "      <th>Man Who Would Be King, The (1975)</th>\n",
       "      <td>5.0</td>\n",
       "      <td>Adventure|Drama</td>\n",
       "    </tr>\n",
       "    <tr>\n",
       "      <th>Playing by Heart (1998)</th>\n",
       "      <td>5.0</td>\n",
       "      <td>Drama|Romance</td>\n",
       "    </tr>\n",
       "    <tr>\n",
       "      <th>War of the Worlds, The (1953)</th>\n",
       "      <td>5.0</td>\n",
       "      <td>Action|Drama|Sci-Fi</td>\n",
       "    </tr>\n",
       "  </tbody>\n",
       "</table>\n",
       "</div>"
      ],
      "text/plain": [
       "                                             1462                    genres\n",
       "Taxi Driver (1976)                            5.0      Crime|Drama|Thriller\n",
       "Rob Roy (1995)                                5.0  Action|Drama|Romance|War\n",
       "Little Princess, A (1995)                     5.0            Children|Drama\n",
       "William Shakespeare's Romeo + Juliet (1996)   5.0             Drama|Romance\n",
       "Quiet Man, The (1952)                         5.0             Drama|Romance\n",
       "Raging Bull (1980)                            5.0                     Drama\n",
       "Pink Floyd: The Wall (1982)                   5.0             Drama|Musical\n",
       "Field of Dreams (1989)                        5.0    Children|Drama|Fantasy\n",
       "Man Who Would Be King, The (1975)             5.0           Adventure|Drama\n",
       "Playing by Heart (1998)                       5.0             Drama|Romance\n",
       "War of the Worlds, The (1953)                 5.0       Action|Drama|Sci-Fi"
      ]
     },
     "execution_count": 3,
     "metadata": {},
     "output_type": "execute_result"
    }
   ],
   "source": [
    "x.iloc[1460, :][x.iloc[1460, :] == 5.0].to_frame().join(genres)"
   ]
  },
  {
   "cell_type": "markdown",
   "metadata": {},
   "source": [
    "Reviewer 1462 tends to give __Dramas__ a score of 5.0."
   ]
  },
  {
   "cell_type": "code",
   "execution_count": 4,
   "metadata": {},
   "outputs": [
    {
     "data": {
      "text/html": [
       "<div>\n",
       "<style scoped>\n",
       "    .dataframe tbody tr th:only-of-type {\n",
       "        vertical-align: middle;\n",
       "    }\n",
       "\n",
       "    .dataframe tbody tr th {\n",
       "        vertical-align: top;\n",
       "    }\n",
       "\n",
       "    .dataframe thead th {\n",
       "        text-align: right;\n",
       "    }\n",
       "</style>\n",
       "<table border=\"1\" class=\"dataframe\">\n",
       "  <thead>\n",
       "    <tr style=\"text-align: right;\">\n",
       "      <th></th>\n",
       "      <th>1462</th>\n",
       "      <th>45</th>\n",
       "      <th>genres</th>\n",
       "    </tr>\n",
       "  </thead>\n",
       "  <tbody>\n",
       "    <tr>\n",
       "      <th>Taxi Driver (1976)</th>\n",
       "      <td>5.0</td>\n",
       "      <td>1.5</td>\n",
       "      <td>Crime|Drama|Thriller</td>\n",
       "    </tr>\n",
       "    <tr>\n",
       "      <th>Rob Roy (1995)</th>\n",
       "      <td>5.0</td>\n",
       "      <td>NaN</td>\n",
       "      <td>Action|Drama|Romance|War</td>\n",
       "    </tr>\n",
       "    <tr>\n",
       "      <th>Little Princess, A (1995)</th>\n",
       "      <td>5.0</td>\n",
       "      <td>2.5</td>\n",
       "      <td>Children|Drama</td>\n",
       "    </tr>\n",
       "    <tr>\n",
       "      <th>William Shakespeare's Romeo + Juliet (1996)</th>\n",
       "      <td>5.0</td>\n",
       "      <td>2.5</td>\n",
       "      <td>Drama|Romance</td>\n",
       "    </tr>\n",
       "    <tr>\n",
       "      <th>Quiet Man, The (1952)</th>\n",
       "      <td>5.0</td>\n",
       "      <td>2.5</td>\n",
       "      <td>Drama|Romance</td>\n",
       "    </tr>\n",
       "    <tr>\n",
       "      <th>Raging Bull (1980)</th>\n",
       "      <td>5.0</td>\n",
       "      <td>2.5</td>\n",
       "      <td>Drama</td>\n",
       "    </tr>\n",
       "    <tr>\n",
       "      <th>Pink Floyd: The Wall (1982)</th>\n",
       "      <td>5.0</td>\n",
       "      <td>3.5</td>\n",
       "      <td>Drama|Musical</td>\n",
       "    </tr>\n",
       "    <tr>\n",
       "      <th>Field of Dreams (1989)</th>\n",
       "      <td>5.0</td>\n",
       "      <td>NaN</td>\n",
       "      <td>Children|Drama|Fantasy</td>\n",
       "    </tr>\n",
       "    <tr>\n",
       "      <th>Man Who Would Be King, The (1975)</th>\n",
       "      <td>5.0</td>\n",
       "      <td>2.0</td>\n",
       "      <td>Adventure|Drama</td>\n",
       "    </tr>\n",
       "    <tr>\n",
       "      <th>Playing by Heart (1998)</th>\n",
       "      <td>5.0</td>\n",
       "      <td>3.0</td>\n",
       "      <td>Drama|Romance</td>\n",
       "    </tr>\n",
       "    <tr>\n",
       "      <th>War of the Worlds, The (1953)</th>\n",
       "      <td>5.0</td>\n",
       "      <td>3.5</td>\n",
       "      <td>Action|Drama|Sci-Fi</td>\n",
       "    </tr>\n",
       "  </tbody>\n",
       "</table>\n",
       "</div>"
      ],
      "text/plain": [
       "                                             1462   45  \\\n",
       "Taxi Driver (1976)                            5.0  1.5   \n",
       "Rob Roy (1995)                                5.0  NaN   \n",
       "Little Princess, A (1995)                     5.0  2.5   \n",
       "William Shakespeare's Romeo + Juliet (1996)   5.0  2.5   \n",
       "Quiet Man, The (1952)                         5.0  2.5   \n",
       "Raging Bull (1980)                            5.0  2.5   \n",
       "Pink Floyd: The Wall (1982)                   5.0  3.5   \n",
       "Field of Dreams (1989)                        5.0  NaN   \n",
       "Man Who Would Be King, The (1975)             5.0  2.0   \n",
       "Playing by Heart (1998)                       5.0  3.0   \n",
       "War of the Worlds, The (1953)                 5.0  3.5   \n",
       "\n",
       "                                                               genres  \n",
       "Taxi Driver (1976)                               Crime|Drama|Thriller  \n",
       "Rob Roy (1995)                               Action|Drama|Romance|War  \n",
       "Little Princess, A (1995)                              Children|Drama  \n",
       "William Shakespeare's Romeo + Juliet (1996)             Drama|Romance  \n",
       "Quiet Man, The (1952)                                   Drama|Romance  \n",
       "Raging Bull (1980)                                              Drama  \n",
       "Pink Floyd: The Wall (1982)                             Drama|Musical  \n",
       "Field of Dreams (1989)                         Children|Drama|Fantasy  \n",
       "Man Who Would Be King, The (1975)                     Adventure|Drama  \n",
       "Playing by Heart (1998)                                 Drama|Romance  \n",
       "War of the Worlds, The (1953)                     Action|Drama|Sci-Fi  "
      ]
     },
     "execution_count": 4,
     "metadata": {},
     "output_type": "execute_result"
    }
   ],
   "source": [
    "x.iloc[1460, :][x.iloc[1460, :] == 5.0] \\\n",
    "    .to_frame() \\\n",
    "    .merge(x.iloc[43, :].to_frame(), left_index=True, right_index=True) \\\n",
    "    .join(genres)"
   ]
  },
  {
   "cell_type": "markdown",
   "metadata": {},
   "source": [
    "Reviewer 45 tends to give scores of 2.5 to the __Dramas__ that reviewer 1462 likes."
   ]
  },
  {
   "cell_type": "code",
   "execution_count": 5,
   "metadata": {},
   "outputs": [
    {
     "data": {
      "text/html": [
       "<div>\n",
       "<style scoped>\n",
       "    .dataframe tbody tr th:only-of-type {\n",
       "        vertical-align: middle;\n",
       "    }\n",
       "\n",
       "    .dataframe tbody tr th {\n",
       "        vertical-align: top;\n",
       "    }\n",
       "\n",
       "    .dataframe thead th {\n",
       "        text-align: right;\n",
       "    }\n",
       "</style>\n",
       "<table border=\"1\" class=\"dataframe\">\n",
       "  <thead>\n",
       "    <tr style=\"text-align: right;\">\n",
       "      <th></th>\n",
       "      <th>45</th>\n",
       "      <th>genres</th>\n",
       "    </tr>\n",
       "  </thead>\n",
       "  <tbody>\n",
       "    <tr>\n",
       "      <th>Jack (1996)</th>\n",
       "      <td>5.0</td>\n",
       "      <td>Comedy|Drama</td>\n",
       "    </tr>\n",
       "    <tr>\n",
       "      <th>Sting, The (1973)</th>\n",
       "      <td>5.0</td>\n",
       "      <td>Comedy|Crime</td>\n",
       "    </tr>\n",
       "    <tr>\n",
       "      <th>Groundhog Day (1993)</th>\n",
       "      <td>5.0</td>\n",
       "      <td>Comedy|Fantasy|Romance</td>\n",
       "    </tr>\n",
       "    <tr>\n",
       "      <th>Howard the Duck (1986)</th>\n",
       "      <td>5.0</td>\n",
       "      <td>Adventure|Comedy|Sci-Fi</td>\n",
       "    </tr>\n",
       "    <tr>\n",
       "      <th>Anywhere But Here (1999)</th>\n",
       "      <td>5.0</td>\n",
       "      <td>Comedy|Drama</td>\n",
       "    </tr>\n",
       "  </tbody>\n",
       "</table>\n",
       "</div>"
      ],
      "text/plain": [
       "                           45                   genres\n",
       "Jack (1996)               5.0             Comedy|Drama\n",
       "Sting, The (1973)         5.0             Comedy|Crime\n",
       "Groundhog Day (1993)      5.0   Comedy|Fantasy|Romance\n",
       "Howard the Duck (1986)    5.0  Adventure|Comedy|Sci-Fi\n",
       "Anywhere But Here (1999)  5.0             Comedy|Drama"
      ]
     },
     "execution_count": 5,
     "metadata": {},
     "output_type": "execute_result"
    }
   ],
   "source": [
    "x.iloc[43, :][x.iloc[43, :] == 5.0].to_frame().join(genres)"
   ]
  },
  {
   "cell_type": "markdown",
   "metadata": {},
   "source": [
    "Reviewer 45 tends to give __Comedies__ a score of 5.0.\n",
    "\n",
    "Reviewer 1462 game __Taxi Driver (1976)__ and __Rob Roy (1995)__ the highest score.\n",
    "\n",
    "Reviewer 45 game __Jack (1996)__ and __Sting, The (1973)__ the highest score.\n",
    "\n",
    "### Part C\n",
    "\n",
    "Given that scores of 5.0 appear to be given out by reviewers only to movies in their favorite genres, I estimate there will be a type of individual for each genre. So the number of types of individuals would be equal to the number of genres. I am able to think of roughly 8 general genre categories: Action, Adventure, Comedy, Romance, Drama, Horror, Documentary, and Children. For this reason, we will use $k=8$."
   ]
  },
  {
   "cell_type": "code",
   "execution_count": 6,
   "metadata": {},
   "outputs": [],
   "source": [
    "k = 8"
   ]
  },
  {
   "cell_type": "markdown",
   "metadata": {},
   "source": [
    "### Part D"
   ]
  },
  {
   "cell_type": "code",
   "execution_count": 7,
   "metadata": {},
   "outputs": [
    {
     "name": "stdout",
     "output_type": "stream",
     "text": [
      "1.5883529135408097\n",
      "1.8105889042288899\n"
     ]
    }
   ],
   "source": [
    "U, S, V = np.linalg.svd(x.fillna(0).to_numpy())\n",
    "x_completed = np.dot(U[:, :k], np.dot(np.diag(S[:k]), V[:k, :]))\n",
    "\n",
    "def calculate_rmse(true, recon):\n",
    "    true_without_nans = true.fillna(0).to_numpy()\n",
    "    diff = true_without_nans[true_without_nans != 0] - recon[true_without_nans != 0]\n",
    "    return np.sqrt(np.sum((diff) ** 2) / np.count_nonzero(true_without_nans))\n",
    "\n",
    "print(x_completed[43, 1])\n",
    "print(calculate_rmse(x, x_completed))"
   ]
  },
  {
   "cell_type": "markdown",
   "metadata": {},
   "source": [
    "Reviewer 45 is predicted to give _Jumanji (1995)_ a score of $1.59$.\n",
    "\n",
    "The average difference between the true, non-missing values and the predictions is $1.81$.\n",
    "\n",
    "### Part E"
   ]
  },
  {
   "cell_type": "code",
   "execution_count": 9,
   "metadata": {},
   "outputs": [
    {
     "name": "stdout",
     "output_type": "stream",
     "text": [
      "2.4512508755173434\n",
      "0.7956369720803059\n"
     ]
    }
   ],
   "source": [
    "x_column_mean = x.copy()\n",
    "column_means = np.nanmean(x_column_mean, axis=0)\n",
    "for i in range(x_column_mean.shape[1]):\n",
    "    x_column_mean.iloc[:, i] = x_column_mean.iloc[:, i].fillna(column_means[i])\n",
    "\n",
    "U, S, V = np.linalg.svd(x_column_mean.to_numpy())\n",
    "x_column_completed = np.dot(U[:, :k], np.dot(np.diag(S[:k]), V[:k, :]))\n",
    "\n",
    "print(x_column_completed[43, 1])\n",
    "print(calculate_rmse(x, x_column_completed))"
   ]
  },
  {
   "cell_type": "markdown",
   "metadata": {},
   "source": [
    "Reviewer 45 is predicted to give _Jumanji (1995)_ a score of $2.45$.\n",
    "\n",
    "The average difference between the true, non-missing values and the predictions is $0.80$.\n",
    "\n",
    "### Part F"
   ]
  },
  {
   "cell_type": "code",
   "execution_count": 7,
   "metadata": {},
   "outputs": [
    {
     "name": "stdout",
     "output_type": "stream",
     "text": [
      "2.440392257114829\n",
      "0.8104082321508662\n"
     ]
    }
   ],
   "source": [
    "x_row_mean = x.copy()\n",
    "row_means = np.nanmean(x_row_mean, axis=1)\n",
    "for i in range(x_row_mean.shape[0]):\n",
    "    x_row_mean.iloc[i, :] = x_row_mean.iloc[i, :].fillna(row_means[i])\n",
    "\n",
    "U, S, V = np.linalg.svd(x_row_mean.to_numpy())\n",
    "x_row_completed = np.dot(U[:, :k], np.dot(np.diag(S[:k]), V[:k, :]))\n",
    "\n",
    "print(x_row_completed[43, 1])\n",
    "print(calculate_rmse(x, x_row_completed))"
   ]
  },
  {
   "cell_type": "markdown",
   "metadata": {},
   "source": [
    "Reviewer 45 is predicted to give _Jumanji (1995)_ a score of $2.44$.\n",
    "\n",
    "The average difference between the true, non-missing values and the predictions is $0.81$.\n",
    "\n",
    "### Part G\n",
    "\n",
    "Replacing the missing data with zeroes is a naive approach. The resulting model learns that reviewers give scores of zero instead of what they might actually give. This is not a good approach for this data as can be seen by the results. The predicted score is much lower than the other two; it is pulled down by the averaging from the zeros. Thus, the root mean squared error is much worse.\n",
    "\n",
    "The column mean approach is much more effective. It assumes that other reviewers will give the same movie similar scores. This gives a much better resulting root mean squared error.\n",
    "\n",
    "The row mean approach is also much more effective than the naive zero approach. It is about as effective as the column mean by the result of the root mean squared error. It assumes that other movies will be given a similar score by the same reviewer.\n",
    "\n",
    "Another possible method for imputing the missing values is the mean of the entire matrix. This would likely work better than zeros, but would not be as effective as imputing across columns or rows as it would pull the entire prediction matrix toward the total mean. This does not have quite as much granularity as dividing the data up by column or row.\n",
    "\n",
    "### Part H"
   ]
  },
  {
   "cell_type": "code",
   "execution_count": 31,
   "metadata": {},
   "outputs": [
    {
     "name": "stdout",
     "output_type": "stream",
     "text": [
      "2.390068087243282\n",
      "0.8058970682676835\n"
     ]
    }
   ],
   "source": [
    "nmf = NMF(n_components=k, random_state=0)\n",
    "W = nmf.fit_transform(x_column_mean.to_numpy())\n",
    "x_column_mean_nmf_completed = nmf.inverse_transform(W)\n",
    "\n",
    "print(x_column_mean_nmf_completed[43, 1])\n",
    "print(calculate_rmse(x, x_column_mean_nmf_completed))"
   ]
  },
  {
   "cell_type": "markdown",
   "metadata": {},
   "source": [
    "Reviewer 45 is predicted to give _Jumanji (1995)_ a score of $2.39$.\n",
    "\n",
    "The average difference between the true, non-missing values and the predictions is $0.81$.\n",
    "\n",
    "The NMF model has nearly the same root mean squared error as the column mean and row mean SVD. The prediction is also nearly the same.\n",
    "\n",
    "### Part I\n",
    "\n",
    "SVD vectors are always global; you are guaranteed to find global optima, as they are simply linear combinations. On top of this, SVD is a _special case_ non-convex problem where we do in fact have efficient algorithms, unlike most non-convex problems. You also need to have more understanding and context on the data to effectively execute NMF; it is possible to get stuck in local optima. You need conditions based on all this to prevent getting stuck in local optima. For an SVD, this isn't necessary. However, if it is possible to condition correctly, NMF is much more easily interpretable; the results given are much clearer.\n",
    "\n",
    "### Part J"
   ]
  },
  {
   "cell_type": "code",
   "execution_count": 63,
   "metadata": {},
   "outputs": [
    {
     "data": {
      "text/html": [
       "<div>\n",
       "<style scoped>\n",
       "    .dataframe tbody tr th:only-of-type {\n",
       "        vertical-align: middle;\n",
       "    }\n",
       "\n",
       "    .dataframe tbody tr th {\n",
       "        vertical-align: top;\n",
       "    }\n",
       "\n",
       "    .dataframe thead th {\n",
       "        text-align: right;\n",
       "    }\n",
       "</style>\n",
       "<table border=\"1\" class=\"dataframe\">\n",
       "  <thead>\n",
       "    <tr style=\"text-align: right;\">\n",
       "      <th></th>\n",
       "      <th>1460</th>\n",
       "      <th>genres</th>\n",
       "    </tr>\n",
       "  </thead>\n",
       "  <tbody>\n",
       "    <tr>\n",
       "      <th>Before Sunset (2004)</th>\n",
       "      <td>4.054311</td>\n",
       "      <td>Drama|Romance</td>\n",
       "    </tr>\n",
       "    <tr>\n",
       "      <th>K-PAX (2001)</th>\n",
       "      <td>3.971173</td>\n",
       "      <td>Drama|Fantasy|Mystery|Sci-Fi</td>\n",
       "    </tr>\n",
       "    <tr>\n",
       "      <th>The Falcon and the Snowman (1985)</th>\n",
       "      <td>3.933291</td>\n",
       "      <td>Crime|Drama|Thriller</td>\n",
       "    </tr>\n",
       "  </tbody>\n",
       "</table>\n",
       "</div>"
      ],
      "text/plain": [
       "                                       1460                        genres\n",
       "Before Sunset (2004)               4.054311                 Drama|Romance\n",
       "K-PAX (2001)                       3.971173  Drama|Fantasy|Mystery|Sci-Fi\n",
       "The Falcon and the Snowman (1985)  3.933291          Crime|Drama|Thriller"
      ]
     },
     "execution_count": 63,
     "metadata": {},
     "output_type": "execute_result"
    }
   ],
   "source": [
    "nmf = NMF(n_components=5, random_state=0)\n",
    "W = nmf.fit_transform(x_column_mean.to_numpy())\n",
    "x_column_mean_nmf_completed = nmf.inverse_transform(W)\n",
    "\n",
    "movies_not_watched = x.copy().iloc[1460, :].fillna(0)\n",
    "movies_not_watched = movies_not_watched[movies_not_watched == 0].index\n",
    "\n",
    "recs = pd.DataFrame(x_column_mean_nmf_completed)\n",
    "recs.columns = x.columns\n",
    "recs = recs.loc[1460, movies_not_watched]\n",
    "recs.sort_values(ascending=False).to_frame().join(genres).head(3)"
   ]
  },
  {
   "cell_type": "markdown",
   "metadata": {},
   "source": [
    "We recommend _Before Sunset_, _K-PAX_, and _The Falcon and the Snowman_ for reviewer 1462. After running an NMF, these movies have the highest predicted rating by him from the list of movies he has not yet reviewed. Given that from Part B we concluded that reviewer 1462 prefers __Dramas__ and sometimes __Romance__, we expect these to be quite good recommendations. We expect this reviewer to enjoy these movies.\n",
    "\n",
    "### Part K"
   ]
  },
  {
   "cell_type": "code",
   "execution_count": 62,
   "metadata": {},
   "outputs": [
    {
     "data": {
      "text/html": [
       "<div>\n",
       "<style scoped>\n",
       "    .dataframe tbody tr th:only-of-type {\n",
       "        vertical-align: middle;\n",
       "    }\n",
       "\n",
       "    .dataframe tbody tr th {\n",
       "        vertical-align: top;\n",
       "    }\n",
       "\n",
       "    .dataframe thead th {\n",
       "        text-align: right;\n",
       "    }\n",
       "</style>\n",
       "<table border=\"1\" class=\"dataframe\">\n",
       "  <thead>\n",
       "    <tr style=\"text-align: right;\">\n",
       "      <th></th>\n",
       "      <th>43</th>\n",
       "      <th>genres</th>\n",
       "    </tr>\n",
       "  </thead>\n",
       "  <tbody>\n",
       "    <tr>\n",
       "      <th>Ghost and Mrs. Muir, The (1947)</th>\n",
       "      <td>3.585019</td>\n",
       "      <td>Drama|Fantasy|Romance</td>\n",
       "    </tr>\n",
       "    <tr>\n",
       "      <th>2001: A Space Odyssey (1968)</th>\n",
       "      <td>3.550058</td>\n",
       "      <td>Adventure|Drama|Sci-Fi</td>\n",
       "    </tr>\n",
       "    <tr>\n",
       "      <th>M (1931)</th>\n",
       "      <td>3.471073</td>\n",
       "      <td>Crime|Film-Noir|Thriller</td>\n",
       "    </tr>\n",
       "  </tbody>\n",
       "</table>\n",
       "</div>"
      ],
      "text/plain": [
       "                                       43                    genres\n",
       "Ghost and Mrs. Muir, The (1947)  3.585019     Drama|Fantasy|Romance\n",
       "2001: A Space Odyssey (1968)     3.550058    Adventure|Drama|Sci-Fi\n",
       "M (1931)                         3.471073  Crime|Film-Noir|Thriller"
      ]
     },
     "execution_count": 62,
     "metadata": {},
     "output_type": "execute_result"
    }
   ],
   "source": [
    "k = 5\n",
    "L = 100\n",
    "x_completed = x.fillna(0).to_numpy()\n",
    "missing_indices = np.where(x_completed == 0)\n",
    "\n",
    "for i in range(100):\n",
    "    U, S, V = np.linalg.svd(x_completed)\n",
    "    S[S <= L] = 0\n",
    "    S[S > L] = S[S > L] - L\n",
    "    x_recon = np.dot(U[:, :k], np.dot(np.diag(S[:k]), V[:k, :]))\n",
    "    x_completed[missing_indices] = x_recon[missing_indices]\n",
    "\n",
    "movies_not_watched = x.copy().iloc[43, :].fillna(0)\n",
    "movies_not_watched = movies_not_watched[movies_not_watched == 0].index\n",
    "\n",
    "recs = pd.DataFrame(x_completed)\n",
    "recs.columns = x.columns\n",
    "recs = recs.loc[43, movies_not_watched]\n",
    "recs.sort_values(ascending=False).to_frame().join(genres).head(3)"
   ]
  },
  {
   "cell_type": "markdown",
   "metadata": {},
   "source": [
    "We recommend _The Ghost and Mrs. Muir_, _2001: A Space Odyssey_, and _M_ for reviewer 45. After running a soft impute, these movies have the highest predicted rating by him from the list of movies he has not yet reviewed. Given that from Part B we concluded that reviewer 45 prefers __Comedies__, we expect these to be very bad recommendations. We don't expect this reviewer to enjoy these movies."
   ]
  }
 ],
 "metadata": {
  "kernelspec": {
   "display_name": "Python 3.8.10 64-bit",
   "language": "python",
   "name": "python3"
  },
  "language_info": {
   "codemirror_mode": {
    "name": "ipython",
    "version": 3
   },
   "file_extension": ".py",
   "mimetype": "text/x-python",
   "name": "python",
   "nbconvert_exporter": "python",
   "pygments_lexer": "ipython3",
   "version": "3.8.10"
  },
  "orig_nbformat": 4,
  "vscode": {
   "interpreter": {
    "hash": "31f2aee4e71d21fbe5cf8b01ff0e069b9275f58929596ceb00d14d90e3e16cd6"
   }
  }
 },
 "nbformat": 4,
 "nbformat_minor": 2
}
