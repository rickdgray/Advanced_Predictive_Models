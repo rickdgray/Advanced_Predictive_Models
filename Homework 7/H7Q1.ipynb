{
 "cells": [
  {
   "cell_type": "markdown",
   "metadata": {},
   "source": [
    "## Homework 6 Question 1\n",
    "##### 2022-07-10"
   ]
  },
  {
   "cell_type": "code",
   "execution_count": 69,
   "metadata": {},
   "outputs": [],
   "source": [
    "import time\n",
    "import numpy as np\n",
    "import pandas as pd\n",
    "import scipy.sparse as sp"
   ]
  },
  {
   "cell_type": "markdown",
   "metadata": {},
   "source": [
    "### Part A"
   ]
  },
  {
   "cell_type": "code",
   "execution_count": 83,
   "metadata": {},
   "outputs": [
    {
     "name": "stdout",
     "output_type": "stream",
     "text": [
      "99.99971353\n"
     ]
    }
   ],
   "source": [
    "df = pd.read_csv(\"TexasCityDistanceMatrix.csv\", index_col = 0, encoding = \"latin-1\")\n",
    "key = pd.read_csv(\"TexasKey.csv\", index_col = 0, encoding = \"latin-1\")\n",
    "\n",
    "print(df.max().max())"
   ]
  },
  {
   "cell_type": "markdown",
   "metadata": {},
   "source": [
    "The maximum value in the matrix is 99.9997\n",
    "\n",
    "This implies that the threshold cut-off for distance is 100mi. Therefore, the missing values in the matrix are the distances between two locations that are greater than 100.\n",
    "\n",
    "### Part B"
   ]
  },
  {
   "cell_type": "code",
   "execution_count": 71,
   "metadata": {},
   "outputs": [
    {
     "name": "stdout",
     "output_type": "stream",
     "text": [
      "Cinco Ranch CDP\n"
     ]
    }
   ],
   "source": [
    "katy_id = key.loc[key['Name'] == 'Katy city'].index[0]\n",
    "closest = sorted(df.loc[katy_id,:][df.loc[katy_id,:].notna()])[1]\n",
    "closest_id_string = df.loc[katy_id,:][np.where(df.loc[katy_id,:] == closest)[0]].index[0]\n",
    "closest_city = key.loc[int(closest_id_string[1:]), 'Name']\n",
    "print(closest_city)"
   ]
  },
  {
   "cell_type": "code",
   "execution_count": 72,
   "metadata": {},
   "outputs": [
    {
     "name": "stdout",
     "output_type": "stream",
     "text": [
      "76\n"
     ]
    }
   ],
   "source": [
    "flower_id = key.loc[key['Name'] == 'Flower Mound town'].index[0]\n",
    "print(len(df.loc[flower_id,:][df.loc[flower_id,:] < 25]))"
   ]
  },
  {
   "cell_type": "markdown",
   "metadata": {},
   "source": [
    "The closest location to \"Katy city\" is \"Cinco Ranch CDP\" and there are 76 locations within 25 miles of \"Flower Mound town.\"\n",
    "\n",
    "### Part C"
   ]
  },
  {
   "cell_type": "code",
   "execution_count": 78,
   "metadata": {},
   "outputs": [
    {
     "name": "stdout",
     "output_type": "stream",
     "text": [
      "0.02037630000268109\n"
     ]
    }
   ],
   "source": [
    "start = time.perf_counter()\n",
    "np.nansum(df)\n",
    "print(time.perf_counter() - start)"
   ]
  },
  {
   "cell_type": "markdown",
   "metadata": {},
   "source": [
    "It takes roughly 20 milliseconds to sum the entire matrix.\n",
    "\n",
    "### Part D"
   ]
  },
  {
   "cell_type": "code",
   "execution_count": 89,
   "metadata": {},
   "outputs": [
    {
     "name": "stdout",
     "output_type": "stream",
     "text": [
      "0.00816359999589622\n"
     ]
    }
   ],
   "source": [
    "df[df > 50] = 0\n",
    "df.fillna(0, inplace = True)\n",
    "\n",
    "start = time.perf_counter()\n",
    "np.nansum(df)\n",
    "print(time.perf_counter() - start)"
   ]
  },
  {
   "cell_type": "markdown",
   "metadata": {},
   "source": [
    "It takes roughtly 8 milliseconds to sum the entire new matrix. This is greater than a 50% reduction in computation time.\n",
    "\n",
    "### Part E"
   ]
  },
  {
   "cell_type": "code",
   "execution_count": 108,
   "metadata": {},
   "outputs": [
    {
     "name": "stdout",
     "output_type": "stream",
     "text": [
      "0.0007184999994933605\n"
     ]
    }
   ],
   "source": [
    "df = pd.read_csv(\"TexasCityDistanceMatrix.csv\", index_col = 0, encoding = \"latin-1\")\n",
    "\n",
    "# using -1 as placeholder to swap 0s with NaNs\n",
    "df[df == 0] = -1\n",
    "df[np.isnan(df)] = 0\n",
    "df[df == -1] = np.nan\n",
    "\n",
    "df = sp.csr_matrix(df)\n",
    "\n",
    "# putting 0s back\n",
    "df.data[np.isnan(df.data)] = 0\n",
    "\n",
    "start = time.perf_counter()\n",
    "df.sum()\n",
    "print(time.perf_counter() - start)"
   ]
  },
  {
   "cell_type": "markdown",
   "metadata": {},
   "source": [
    "It takes roughtly 0.7 milliseconds to sum the entire sparse matrix. This is greater than a 90% reduction in computation time from the cleaned matrix and an incredible 96% reduction from the initial matrix.\n",
    "\n",
    "### Part F\n",
    "\n",
    "Given that the zeroes are distances of cities to themselves, they are unnecessary and can be removed. Not only this, the distances in the matrix are symmetric; there is no need to track both the distance from point A to point B and the distance from point B to point A as they will always be the same. Removing these duplicates would cut the memory consumption in half."
   ]
  }
 ],
 "metadata": {
  "kernelspec": {
   "display_name": "Python 3.8.10 64-bit",
   "language": "python",
   "name": "python3"
  },
  "language_info": {
   "codemirror_mode": {
    "name": "ipython",
    "version": 3
   },
   "file_extension": ".py",
   "mimetype": "text/x-python",
   "name": "python",
   "nbconvert_exporter": "python",
   "pygments_lexer": "ipython3",
   "version": "3.8.10"
  },
  "orig_nbformat": 4,
  "vscode": {
   "interpreter": {
    "hash": "916dbcbb3f70747c44a77c7bcd40155683ae19c65e1c03b4aa3499c5328201f1"
   }
  }
 },
 "nbformat": 4,
 "nbformat_minor": 2
}
